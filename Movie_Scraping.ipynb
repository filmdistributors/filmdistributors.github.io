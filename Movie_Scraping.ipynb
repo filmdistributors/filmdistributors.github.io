{
  "nbformat": 4,
  "nbformat_minor": 0,
  "metadata": {
    "colab": {
      "name": "Movie Scraping.ipynb",
      "provenance": [],
      "collapsed_sections": [],
      "toc_visible": true
    },
    "kernelspec": {
      "name": "python3",
      "display_name": "Python 3"
    }
  },
  "cells": [
    {
      "cell_type": "markdown",
      "metadata": {
        "id": "DfBHXMs6jM8M"
      },
      "source": [
        "# Web Scraping"
      ]
    },
    {
      "cell_type": "code",
      "metadata": {
        "id": "lDqSJkFlVlk3"
      },
      "source": [
        "import pandas as pd\n",
        "import numpy as np\n",
        "\n",
        "import requests\n",
        "from requests import get\n",
        "from bs4 import BeautifulSoup\n",
        "\n",
        "from time import sleep\n",
        "from random import randint"
      ],
      "execution_count": null,
      "outputs": []
    },
    {
      "cell_type": "markdown",
      "metadata": {
        "id": "IPSDe7mXjV0M"
      },
      "source": [
        "I will be scraping the box office data from boxofficemojo.com using beautifulsoup, and collecting information I want such as gross and studio."
      ]
    },
    {
      "cell_type": "code",
      "metadata": {
        "id": "JJiFc-oKWy3-",
        "collapsed": true
      },
      "source": [
        "import re\n",
        "import pandas as pd\n",
        "import requests\n",
        "from bs4 import BeautifulSoup\n",
        "\n",
        "yearBeginning = 2020 \n",
        "finalDataList = []\n",
        "\n",
        "for i in range(44): #getting movies years from 2020 - 1977\n",
        "    try: \n",
        "        print(\"fetching data for year \" + str(yearBeginning))\n",
        "        page = 'https://www.boxofficemojo.com/year/' + str(yearBeginning) + '/?grossesOption=calendarGrosses'\n",
        "        \n",
        "        resp = requests.get(page)\n",
        "        soup = BeautifulSoup(resp.text, 'lxml')\n",
        "        table_data = [x.text for x in soup.select('tr td')]  # trial and error to get the exact positions\n",
        "       \n",
        "        distance = 11\n",
        "        while distance <= len(table_data):\n",
        "            table_data.insert(distance, str(yearBeginning))\n",
        "            distance += 12\n",
        "\n",
        "        temp_list = [table_data[i:i+12] for i in range(0, len(table_data[:-4]), 12)] # put every 5 values in a row\n",
        "\n",
        "        yearBeginning = yearBeginning - 1 \n",
        "\n",
        "\n",
        "        for movie in temp_list:\n",
        "          finalDataList.append(movie)\n",
        "   \n",
        "    except Exception as e:\n",
        "        break\n",
        "\n",
        "\n"
      ],
      "execution_count": null,
      "outputs": []
    },
    {
      "cell_type": "code",
      "metadata": {
        "id": "opprfN0ui9Wj"
      },
      "source": [
        "print(\"We have observations totaling \" + str(len(finalDataList)) + \" films.\") "
      ],
      "execution_count": null,
      "outputs": []
    },
    {
      "cell_type": "code",
      "metadata": {
        "id": "Ob8KPO43Yb_c"
      },
      "source": [
        "regex = '|'.join(['\\$', ',', '\\^'])\n",
        "\n",
        "\n",
        "df = pd.DataFrame({\n",
        "    'rank': [int(float(x[0])) for x in finalDataList],  # convert ranks to integers\n",
        "    'title': [x[1] for x in finalDataList],  # get titles as is\n",
        "    'studio': [x[9].strip('\\n') for x in finalDataList],  # get studio names as is\n",
        "    'total_gross': [x[7] for x in finalDataList],\n",
        "    'gross': [x[5] for x in finalDataList],  \n",
        "    'theaters': [x[6] for x in finalDataList],\n",
        "    'release_date': [x[8] for x in finalDataList],  # get studio names as is\n",
        "    'year': [x[11] for x in finalDataList],  \n",
        "})\n",
        "display(df)\n",
        "\n"
      ],
      "execution_count": null,
      "outputs": []
    },
    {
      "cell_type": "markdown",
      "metadata": {
        "id": "NpdQlFN6kAZ7"
      },
      "source": [
        "# Cleaning Database\r\n",
        "\r\n",
        "I would like to do some preliminary data exploration to check for errors or do some cleaning beforehand to later make my data vizs clearer"
      ]
    },
    {
      "cell_type": "markdown",
      "metadata": {
        "id": "yJ_8m4-nkPzN"
      },
      "source": [
        "First, I want to check out what main studios there are"
      ]
    },
    {
      "cell_type": "code",
      "metadata": {
        "id": "H77iwxlDkCvV"
      },
      "source": [
        "display(df.studio.value_counts()[0:60])"
      ],
      "execution_count": null,
      "outputs": []
    },
    {
      "cell_type": "markdown",
      "metadata": {
        "id": "4AXdjY4AlT_r"
      },
      "source": [
        "I can see that Sony Pictures Entertainment (SPE) and Sony Pictures Classics are divisions of Sony Pictures, so I will make those two equal."
      ]
    },
    {
      "cell_type": "code",
      "metadata": {
        "id": "LE6eAvFMkFj7"
      },
      "source": [
        "df.loc[(df['studio'] == 'Sony Pictures Entertainment (SPE)'), ['studio']]= 'Sony Pictures'\r\n",
        "df.loc[(df['studio'] == 'Sony Pictures Classics'), ['studio']]= 'Sony Pictures'\r\n"
      ],
      "execution_count": null,
      "outputs": []
    },
    {
      "cell_type": "markdown",
      "metadata": {
        "id": "0HY5aj-hmh_M"
      },
      "source": [
        "I will also drop the rows that have blank distributors as well as films during years that are re-releases. "
      ]
    },
    {
      "cell_type": "code",
      "metadata": {
        "id": "2wRvNTHdl6fS"
      },
      "source": [
        "df = df[(df['studio'] != '-')]\r\n",
        "df = df[(df['title'].str.contains('release') == False )]\r\n"
      ],
      "execution_count": null,
      "outputs": []
    },
    {
      "cell_type": "markdown",
      "metadata": {
        "id": "USy3WFNNqsZc"
      },
      "source": [
        "# Getting Genres"
      ]
    },
    {
      "cell_type": "markdown",
      "metadata": {
        "id": "Bn7qreW_1r8y"
      },
      "source": [
        "Unfortunately my scrapped data does not have genres for film and after multiple usages of boxofficemojo was faulty in searching for genre, I will now take the database and write a function that makes a scrap call for each film through IMBD. "
      ]
    },
    {
      "cell_type": "code",
      "metadata": {
        "id": "o4NabeHI2HrV"
      },
      "source": [
        "df = pd.read_csv(r'moviesWithoutRelease.csv')\r\n",
        "df = df[['rank', 'title', 'studio', 'total_gross', 'gross',\r\n",
        "       'theaters', 'release_date', 'year', 'genres']]\r\n",
        "df = df.reset_index(drop = True )\r\n",
        "dfCurr = df.copy()\r\n"
      ],
      "execution_count": null,
      "outputs": []
    },
    {
      "cell_type": "markdown",
      "metadata": {
        "id": "USVbW1JO2WgJ"
      },
      "source": [
        "My computer was too slow and kept on crashing from scraping data or becoming unresponsive and so I will apply the function in smaller amounts slowly and save my database everytime, which is why my nStart and nEnd variables change"
      ]
    },
    {
      "cell_type": "code",
      "metadata": {
        "id": "vs-gC05Bs_8x"
      },
      "source": [
        "titleFailedToGetGenre = []\r\n",
        "def getGenreDirectly(x):\r\n",
        "    title = x[1]\r\n",
        "    title = title.replace(\" \", \"+\")\r\n",
        "    currentStr = \"\"\r\n",
        "    page = 'https://www.imdb.com/search/title/?title=' + title\r\n",
        "    try: \r\n",
        "        resp = requests.get(page)\r\n",
        "        soup = BeautifulSoup(resp.text, 'lxml')\r\n",
        "        currentStr = (soup.find(\"span\", {\"class\": \"genre\"})).text.strip('\\n')\r\n",
        "        print(currentStr) #print the genre \r\n",
        "    except:\r\n",
        "        print(\"error for \" + page)\r\n",
        "        titleFailedToGetGenre.append(title)\r\n",
        "    return currentStr\r\n",
        "\r\n",
        "nStart = 498\r\n",
        "nEnd = 600\r\n",
        "print(\"beginning.....\")\r\n",
        "dfCurr.iloc[nStart: nEnd]['genres'] = dfCurr.iloc[nStart: nEnd].apply(getGenreDirectly, axis=1)\r\n",
        "print(\"done!\")\r\n"
      ],
      "execution_count": null,
      "outputs": []
    },
    {
      "cell_type": "code",
      "metadata": {
        "id": "NzhXMf4aRro8"
      },
      "source": [
        "dfCurr.iloc[nStart - 2: nEnd  + 2]\r\n",
        "display(dfCurr.iloc[nEnd - 10: nEnd  + 2])\r\n",
        "dfCurr.to_csv(r'moviesWithGenres.csv', index = False)\r\n"
      ],
      "execution_count": null,
      "outputs": []
    },
    {
      "cell_type": "markdown",
      "metadata": {
        "id": "nn6sUaMf2uRp"
      },
      "source": [
        "# Getting Dates"
      ]
    },
    {
      "cell_type": "code",
      "metadata": {
        "id": "8TkGfhHHq1tL"
      },
      "source": [
        "df = pd.read_csv(r'moviesWithGenres.csv')\r\n",
        "\r\n",
        "df = df[['rank', 'title', 'studio', 'total_gross', 'gross', 'theaters',\r\n",
        "       'release_date', 'year', 'genres']]\r\n",
        "\r\n",
        "\r\n"
      ],
      "execution_count": null,
      "outputs": []
    },
    {
      "cell_type": "code",
      "metadata": {
        "id": "0zNxyjdbnVPm"
      },
      "source": [
        "\r\n",
        "import datetime\r\n",
        "\r\n",
        "df['date'] =  (df['year'].astype(str))\r\n",
        "df['date'] =  (df['release_date'].astype(str)) +  '-' + df['date']\r\n",
        "\r\n",
        "#for no release dates, just keep year\r\n",
        "df.loc[(df['release_date']  == '-'), ['date']]= '21-Jan-' + df['year'].astype(str)\r\n",
        "df['date'] = pd.to_datetime(df['date'], dayfirst=True, errors='coerce')\r\n",
        "\r\n"
      ],
      "execution_count": null,
      "outputs": []
    },
    {
      "cell_type": "code",
      "metadata": {
        "id": "DZfhtlav82LU"
      },
      "source": [
        "from datetime import date, datetime\r\n",
        "\r\n",
        "\r\n",
        "# Winter is the first day after New Year's week or weekend through the Thursday before the first Friday in March 01/05-03/05\r\n",
        "# Spring is the first Friday in March through the Thursday before the first Friday in May.  03/06 - 05/05\r\n",
        "# Summer is the first Friday in May through Labor Day weekend. 05/06- 09/5\r\n",
        "# Fall is the day after Labor Day weekend through the Thrusday before the first Friday in November.   09/06-11/05\r\n",
        "# Holiday Season is the first week in November till the first Thursday before the first Friday in January, unless that Friday is New Years then it's the next Thursday.\r\n",
        "# 11/05-12/31\r\n",
        "\r\n",
        "def getSeason(x):\r\n",
        "  now = x[9]\r\n",
        "  day = now.day\r\n",
        "  month = now.month\r\n",
        "  if month <= 3 : \r\n",
        "    if month == 3 and day >= 5: \r\n",
        "      return 'Spring'\r\n",
        "    return 'Winter'\r\n",
        "  elif month <= 5: \r\n",
        "    if month == 5 and day >= 5: \r\n",
        "      return 'Summer'\r\n",
        "    return 'Spring'\r\n",
        "  elif month <= 9: \r\n",
        "    if month == 9 and day >= 5: \r\n",
        "      return 'Fall'\r\n",
        "    return 'Summer'\r\n",
        "  elif month <= 11: \r\n",
        "    if month == 11 and day >= 5: \r\n",
        "      return 'Holiday Season'\r\n",
        "    return 'Fall'\r\n",
        "  else:\r\n",
        "    return 'Holiday Season'\r\n",
        "\r\n",
        "  return 'Fall'\r\n",
        "\r\n",
        "\r\n",
        "df['season'] = df.apply(getSeason, axis=1)\r\n",
        "\r\n",
        "\r\n"
      ],
      "execution_count": null,
      "outputs": []
    },
    {
      "cell_type": "code",
      "metadata": {
        "id": "C2llXhGqduND",
        "colab": {
          "base_uri": "https://localhost:8080/",
          "height": 691
        },
        "outputId": "0bfc3be5-527e-4ccf-b591-c48f922956e9"
      },
      "source": [
        "df"
      ],
      "execution_count": null,
      "outputs": [
        {
          "output_type": "execute_result",
          "data": {
            "text/html": [
              "<div>\n",
              "<style scoped>\n",
              "    .dataframe tbody tr th:only-of-type {\n",
              "        vertical-align: middle;\n",
              "    }\n",
              "\n",
              "    .dataframe tbody tr th {\n",
              "        vertical-align: top;\n",
              "    }\n",
              "\n",
              "    .dataframe thead th {\n",
              "        text-align: right;\n",
              "    }\n",
              "</style>\n",
              "<table border=\"1\" class=\"dataframe\">\n",
              "  <thead>\n",
              "    <tr style=\"text-align: right;\">\n",
              "      <th></th>\n",
              "      <th>rank</th>\n",
              "      <th>title</th>\n",
              "      <th>studio</th>\n",
              "      <th>total_gross</th>\n",
              "      <th>gross</th>\n",
              "      <th>theaters</th>\n",
              "      <th>release_date</th>\n",
              "      <th>year</th>\n",
              "      <th>genres</th>\n",
              "      <th>date</th>\n",
              "      <th>season</th>\n",
              "    </tr>\n",
              "  </thead>\n",
              "  <tbody>\n",
              "    <tr>\n",
              "      <th>0</th>\n",
              "      <td>1</td>\n",
              "      <td>Bad Boys for Life</td>\n",
              "      <td>Sony Pictures</td>\n",
              "      <td>$206,305,244</td>\n",
              "      <td>$204,417,855</td>\n",
              "      <td>3,775</td>\n",
              "      <td>17-Jan</td>\n",
              "      <td>2020</td>\n",
              "      <td>Action, Comedy, Crime</td>\n",
              "      <td>2020-01-17</td>\n",
              "      <td>Winter</td>\n",
              "    </tr>\n",
              "    <tr>\n",
              "      <th>1</th>\n",
              "      <td>2</td>\n",
              "      <td>1917</td>\n",
              "      <td>Universal Pictures</td>\n",
              "      <td>$159,227,644</td>\n",
              "      <td>$157,901,466</td>\n",
              "      <td>3,987</td>\n",
              "      <td>25-Dec</td>\n",
              "      <td>2020</td>\n",
              "      <td>Drama, War</td>\n",
              "      <td>2020-12-25</td>\n",
              "      <td>Holiday Season</td>\n",
              "    </tr>\n",
              "    <tr>\n",
              "      <th>2</th>\n",
              "      <td>3</td>\n",
              "      <td>Sonic the Hedgehog</td>\n",
              "      <td>Paramount Pictures</td>\n",
              "      <td>$146,066,470</td>\n",
              "      <td>$146,066,470</td>\n",
              "      <td>4,198</td>\n",
              "      <td>14-Feb</td>\n",
              "      <td>2020</td>\n",
              "      <td>Action, Adventure, Comedy</td>\n",
              "      <td>2020-02-14</td>\n",
              "      <td>Winter</td>\n",
              "    </tr>\n",
              "    <tr>\n",
              "      <th>3</th>\n",
              "      <td>4</td>\n",
              "      <td>Jumanji: The Next Level</td>\n",
              "      <td>Sony Pictures</td>\n",
              "      <td>$320,314,960</td>\n",
              "      <td>$124,736,710</td>\n",
              "      <td>4,227</td>\n",
              "      <td>13-Dec</td>\n",
              "      <td>2020</td>\n",
              "      <td>Action, Adventure, Comedy</td>\n",
              "      <td>2020-12-13</td>\n",
              "      <td>Holiday Season</td>\n",
              "    </tr>\n",
              "    <tr>\n",
              "      <th>4</th>\n",
              "      <td>5</td>\n",
              "      <td>Star Wars: Episode IX - The Rise of Skywalker</td>\n",
              "      <td>Walt Disney Studios Motion Pictures</td>\n",
              "      <td>$515,202,542</td>\n",
              "      <td>$124,496,308</td>\n",
              "      <td>4,406</td>\n",
              "      <td>20-Dec</td>\n",
              "      <td>2020</td>\n",
              "      <td>Action, Adventure, Fantasy</td>\n",
              "      <td>2020-12-20</td>\n",
              "      <td>Holiday Season</td>\n",
              "    </tr>\n",
              "    <tr>\n",
              "      <th>...</th>\n",
              "      <td>...</td>\n",
              "      <td>...</td>\n",
              "      <td>...</td>\n",
              "      <td>...</td>\n",
              "      <td>...</td>\n",
              "      <td>...</td>\n",
              "      <td>...</td>\n",
              "      <td>...</td>\n",
              "      <td>...</td>\n",
              "      <td>...</td>\n",
              "      <td>...</td>\n",
              "    </tr>\n",
              "    <tr>\n",
              "      <th>15578</th>\n",
              "      <td>5</td>\n",
              "      <td>Exorcist II: The Heretic</td>\n",
              "      <td>Warner Bros.</td>\n",
              "      <td>$30,749,142</td>\n",
              "      <td>$30,749,142</td>\n",
              "      <td>703</td>\n",
              "      <td>17-Jun</td>\n",
              "      <td>1977</td>\n",
              "      <td>NaN</td>\n",
              "      <td>1977-06-17</td>\n",
              "      <td>Summer</td>\n",
              "    </tr>\n",
              "    <tr>\n",
              "      <th>15579</th>\n",
              "      <td>6</td>\n",
              "      <td>The Turning Point</td>\n",
              "      <td>Twentieth Century Fox</td>\n",
              "      <td>$25,933,445</td>\n",
              "      <td>$25,815,410</td>\n",
              "      <td>5</td>\n",
              "      <td>14-Nov</td>\n",
              "      <td>1977</td>\n",
              "      <td>NaN</td>\n",
              "      <td>1977-11-14</td>\n",
              "      <td>Holiday Season</td>\n",
              "    </tr>\n",
              "    <tr>\n",
              "      <th>15580</th>\n",
              "      <td>7</td>\n",
              "      <td>Looking for Mr. Goodbar</td>\n",
              "      <td>Paramount Pictures</td>\n",
              "      <td>$22,512,655</td>\n",
              "      <td>$22,512,655</td>\n",
              "      <td>110</td>\n",
              "      <td>19-Oct</td>\n",
              "      <td>1977</td>\n",
              "      <td>NaN</td>\n",
              "      <td>1977-10-19</td>\n",
              "      <td>Fall</td>\n",
              "    </tr>\n",
              "    <tr>\n",
              "      <th>15581</th>\n",
              "      <td>8</td>\n",
              "      <td>Saturday Night Fever</td>\n",
              "      <td>Paramount Pictures</td>\n",
              "      <td>$94,213,184</td>\n",
              "      <td>$18,234,852</td>\n",
              "      <td>726</td>\n",
              "      <td>16-Dec</td>\n",
              "      <td>1977</td>\n",
              "      <td>NaN</td>\n",
              "      <td>1977-12-16</td>\n",
              "      <td>Holiday Season</td>\n",
              "    </tr>\n",
              "    <tr>\n",
              "      <th>15582</th>\n",
              "      <td>9</td>\n",
              "      <td>Close Encounters of the Third Kind</td>\n",
              "      <td>Columbia Pictures</td>\n",
              "      <td>$116,395,460</td>\n",
              "      <td>$16,172,445</td>\n",
              "      <td>650</td>\n",
              "      <td>16-Nov</td>\n",
              "      <td>1977</td>\n",
              "      <td>NaN</td>\n",
              "      <td>1977-11-16</td>\n",
              "      <td>Holiday Season</td>\n",
              "    </tr>\n",
              "  </tbody>\n",
              "</table>\n",
              "<p>15583 rows × 11 columns</p>\n",
              "</div>"
            ],
            "text/plain": [
              "       rank  ...          season\n",
              "0         1  ...          Winter\n",
              "1         2  ...  Holiday Season\n",
              "2         3  ...          Winter\n",
              "3         4  ...  Holiday Season\n",
              "4         5  ...  Holiday Season\n",
              "...     ...  ...             ...\n",
              "15578     5  ...          Summer\n",
              "15579     6  ...  Holiday Season\n",
              "15580     7  ...            Fall\n",
              "15581     8  ...  Holiday Season\n",
              "15582     9  ...  Holiday Season\n",
              "\n",
              "[15583 rows x 11 columns]"
            ]
          },
          "metadata": {
            "tags": []
          },
          "execution_count": 97
        }
      ]
    },
    {
      "cell_type": "markdown",
      "metadata": {
        "id": "VI0bqSONKdb5"
      },
      "source": [
        "# Cleaning"
      ]
    },
    {
      "cell_type": "code",
      "metadata": {
        "id": "70CFbt5iKf5E"
      },
      "source": [
        "df['total_gross'] = df['total_gross'].str.replace('$', '')\r\n",
        "df['gross'] = df['gross'].str.replace('$', '')\r\n",
        "df['total_gross'] = df['total_gross'].str.replace(',', '')\r\n",
        "df['gross'] = df['gross'].str.replace(',', '')\r\n",
        "df['theaters'] = df['theaters'].str.replace(',', '')\r\n"
      ],
      "execution_count": null,
      "outputs": []
    },
    {
      "cell_type": "code",
      "metadata": {
        "id": "g2fFLN3onqPF"
      },
      "source": [
        "\r\n",
        "df['date_unix']  = pd.DatetimeIndex ( df.date ).astype ( np.int64 )/1000000\r\n"
      ],
      "execution_count": null,
      "outputs": []
    },
    {
      "cell_type": "code",
      "metadata": {
        "id": "rCsOIw3ypLg0"
      },
      "source": [
        "\r\n",
        "df.to_csv(r'moviesData.csv', index = False)\r\n"
      ],
      "execution_count": null,
      "outputs": []
    },
    {
      "cell_type": "markdown",
      "metadata": {
        "id": "j2WU5eLvETUz"
      },
      "source": [
        "I would like to get a list for select options of website so will calculate here an order of the top highest ranking distributors"
      ]
    },
    {
      "cell_type": "code",
      "metadata": {
        "id": "oz86uSwOy27x",
        "colab": {
          "base_uri": "https://localhost:8080/"
        },
        "outputId": "23862202-770b-4685-c5a3-edb6d150deb4"
      },
      "source": [
        "print(\"This is the method to get text\")\r\n",
        "# for x in listOfStudios: \r\n",
        "  # print('<option value=\"' + x + '\">' + x + '</option>')\r\n",
        "\r\n",
        "\r\n",
        "      "
      ],
      "execution_count": null,
      "outputs": [
        {
          "output_type": "stream",
          "text": [
            "This is the method to get text\n"
          ],
          "name": "stdout"
        }
      ]
    },
    {
      "cell_type": "code",
      "metadata": {
        "id": "QXRVFVE3UMbx"
      },
      "source": [
        "df = pd.read_csv(r'moviesData.csv')\r\n"
      ],
      "execution_count": null,
      "outputs": []
    },
    {
      "cell_type": "code",
      "metadata": {
        "id": "1C10TFURD8Bf"
      },
      "source": [
        "sortedDF = df.groupby(['studio']).sum().sort_values('total_gross', ascending = False )\r\n",
        "\r\n",
        "listOfStudios = sortedDF.index.values"
      ],
      "execution_count": null,
      "outputs": []
    },
    {
      "cell_type": "markdown",
      "metadata": {
        "id": "dMT__jRUUpZO"
      },
      "source": [
        "I would also like to check the general quantiles of key points, such as the total_gross and gross"
      ]
    },
    {
      "cell_type": "code",
      "metadata": {
        "colab": {
          "base_uri": "https://localhost:8080/"
        },
        "id": "vSHi-d47-7fZ",
        "outputId": "44f929c6-25f8-4ff7-aceb-73b3c7083f40"
      },
      "source": [
        "# df.sort_values('date', ascending = True )\r\n",
        "\r\n",
        "# df.quantile(0.5)\r\n",
        "df.gross.quantile([.25, .50, .75])\r\n",
        "\r\n",
        "# df.gross\r\n",
        "\r\n",
        "df.columns"
      ],
      "execution_count": null,
      "outputs": [
        {
          "output_type": "execute_result",
          "data": {
            "text/plain": [
              "Index(['rank', 'title', 'studio', 'total_gross', 'gross', 'theaters',\n",
              "       'release_date', 'year', 'genres', 'date', 'season', 'date_unix'],\n",
              "      dtype='object')"
            ]
          },
          "metadata": {
            "tags": []
          },
          "execution_count": 37
        }
      ]
    },
    {
      "cell_type": "code",
      "metadata": {
        "id": "ZYea8217INZM"
      },
      "source": [
        ""
      ],
      "execution_count": null,
      "outputs": []
    }
  ]
}